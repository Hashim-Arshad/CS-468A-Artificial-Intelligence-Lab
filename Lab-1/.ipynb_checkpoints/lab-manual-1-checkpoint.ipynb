{
 "cells": [
  {
   "cell_type": "markdown",
   "id": "ee666abe",
   "metadata": {},
   "source": [
    "7.1 Sales Tax\n",
    "Write a program that will ask the user to enter the amount of a purchase. The program should then\n",
    "compute the state and county sales tax. Assume the state sales tax is 5 percent and the county\n",
    "sales tax is 2.5 percent. The program should display the following: * The amount of the purchase\n",
    "* The state sales tax * The county sales tax * The total sales tax * and the total of the sale (which\n",
    "is the sum of the amount of purchase plus the total sales tax).\n"
   ]
  },
  {
   "cell_type": "code",
   "execution_count": 1,
   "id": "641bd292",
   "metadata": {},
   "outputs": [
    {
     "name": "stdout",
     "output_type": "stream",
     "text": [
      "enter purchase value45\n",
      "purchase is :  45\n",
      "State Sale Tax is :  2.25\n",
      "County sale Tax is :  1.125\n",
      "Total sale tax is :  3.375\n",
      "Total sale   is :  48.375\n"
     ]
    }
   ],
   "source": [
    "purchase = int(input(\"enter purchase value\"))\n",
    "stateSaleTax = (5/100)*purchase\n",
    "countySaleTax = (2.5/100)*purchase\n",
    "totalTax = stateSaleTax+countySaleTax\n",
    "totalSale = totalTax+purchase\n",
    "print(\"purchase is : \",purchase )\n",
    "print(\"State Sale Tax is : \",stateSaleTax)\n",
    "print(\"County sale Tax is : \",countySaleTax)\n",
    "print(\"Total sale tax is : \" ,totalTax)\n",
    "print(\"Total sale   is : \" ,totalSale)"
   ]
  },
  {
   "cell_type": "markdown",
   "id": "5099d02f",
   "metadata": {},
   "source": [
    "7.2 Tip, Tax and Total\n",
    "Write a program that calculates the total amount of a meal purchased at a restaurant. The program\n",
    "should ask the user to enter the charge for the food, and then calculate the amount of a 18 percent\n",
    "tip and 7 percent sales tax. Display each of these amounts and the total."
   ]
  },
  {
   "cell_type": "code",
   "execution_count": 2,
   "id": "9a598071",
   "metadata": {},
   "outputs": [
    {
     "name": "stdout",
     "output_type": "stream",
     "text": [
      "enter purchase for the meal : 36\n",
      "Charges at food is : 36\n",
      "tip on food  is : 6.4799999999999995\n",
      "tax at food is : 2.5200000000000005\n",
      "total purchase at food is : 45.0\n"
     ]
    }
   ],
   "source": [
    "purchase = int(input(\"enter purchase for the meal : \"))\n",
    "tip = (18/100)*purchase\n",
    "tax = (7/100)*purchase\n",
    "total = purchase+tip+tax\n",
    "print(\"Charges at food is :\",purchase)\n",
    "print(\"tip on food  is :\",tip)\n",
    "print(\"tax at food is :\",tax)\n",
    "print(\"total purchase at food is :\",total)"
   ]
  },
  {
   "cell_type": "markdown",
   "id": "12309929",
   "metadata": {},
   "source": [
    "7.3 Ingredient Adjuster\n",
    "A cookie recipe calls for the following ingredients: * 1.5 cups of sugar * 1 cup of butter * 2.75 cups\n",
    "of flour"
   ]
  },
  {
   "cell_type": "code",
   "execution_count": 3,
   "id": "2d9cafaa",
   "metadata": {},
   "outputs": [
    {
     "name": "stdout",
     "output_type": "stream",
     "text": [
      "How many cookies you want to bake : 4\n",
      "No of suger cups:  0.125\n",
      "No of butter cups:  0.08333333333333333\n",
      "No of flour cups:  0.22916666666666666\n"
     ]
    }
   ],
   "source": [
    "sugerCup1=1.5/48\n",
    "\n",
    "butterCup1=1/48\n",
    "\n",
    "flourCup1=2.75/48\n",
    "\n",
    "cookie=int(input(\"How many cookies you want to bake : \"))\n",
    "print(\"No of suger cups: \", sugerCup1*cookie)\n",
    "print(\"No of butter cups: \", butterCup1*cookie)\n",
    "print(\"No of flour cups: \", flourCup1*cookie)"
   ]
  },
  {
   "cell_type": "markdown",
   "id": "cada30ad",
   "metadata": {},
   "source": [
    "7.4 Male and Female Percentages\n",
    "Write a program that asks the user for the number of males and the number of females registered\n",
    "in a class. The program should display the percentage of males and females in the class.\n",
    "Hint: Suppose there are 8 males and 12 females in a class. There are 20 students in the class. The\n",
    "percentage of males can be calculated as 8 4 20 5 0.4, or 40%. The percentage of females can be\n",
    "calculated as 12 4 20 5 0.6, or 60%."
   ]
  },
  {
   "cell_type": "code",
   "execution_count": 5,
   "id": "4848b409",
   "metadata": {},
   "outputs": [
    {
     "name": "stdout",
     "output_type": "stream",
     "text": [
      "enter number of male student: 5\n",
      "enter number of female student: 5\n",
      "Total students:  10\n",
      "Male percentage:  0.5\n",
      "Female percentage:  0.5\n"
     ]
    }
   ],
   "source": [
    "male=int(input(\"enter number of male student: \"))\n",
    "female=int(input(\"enter number of female student: \"))\n",
    "totalStudents=male+female\n",
    "malePercentage=(male/100)*totalStudents\n",
    "femalePercentage=(female/100)*totalStudents\n",
    "print(\"Total students: \", totalStudents)\n",
    "print(\"Male percentage: \", malePercentage)\n",
    "print(\"Female percentage: \", femalePercentage)"
   ]
  },
  {
   "cell_type": "markdown",
   "id": "5bf9d1fb",
   "metadata": {},
   "source": [
    "7.5 Stock Transation Program\n",
    "Last month Joe purchased some stock in Acme Software, Inc. Here are the details of the purchase:\n",
    "* The number of shares that Joe purchased was 2,000. * When Joe purchased the stock, he paid\n",
    "40.00 Dollar per share. * Joe paid his stockbroker a commission that amounted to 3 percent of the\n",
    "amount he paid for the stock.\n",
    "Two weeks later Joe sold the stock. Here are the details of the sale: * The number of shares that\n",
    "Joe sold was 2,000. * He sold the stock for 42.75 Dollar per share. * He paid his stockbroker\n",
    "another commission that amounted to 3 percent of the amount he received for the stock.\n",
    "Write a program that displays the following information: * The amount of money Joe paid for the\n",
    "stock. * The amount of commission Joe paid his broker when he bought the stock. * The amount\n",
    "that Joe sold the stock for. * The amount of commission Joe paid his broker when he sold the\n",
    "stock. * Display the amount of money that Joe had left when he sold the stock and paid his broker\n",
    "(both times). If this amount is positive, then Joe made a profit. If the amount is negative, then\n",
    "Joe lost money."
   ]
  },
  {
   "cell_type": "code",
   "execution_count": 6,
   "id": "01cedcb8",
   "metadata": {},
   "outputs": [
    {
     "name": "stdout",
     "output_type": "stream",
     "text": [
      "Deal goes in profit .\n"
     ]
    }
   ],
   "source": [
    "totalAmount=2000*40\n",
    "purchaseDealer=(3/100)*totalAmount\n",
    "totalPurchase=totalAmount+purchaseDealer\n",
    "totalSale=2000*42.75\n",
    "saleDealer=(3/100)*totalSale\n",
    "sale=totalSale-saleDealer\n",
    "if sale>0:\n",
    "    print(\"Deal goes in profit .\")\n",
    "else :\n",
    "    print(\"Deal goes in loss .\")"
   ]
  }
 ],
 "metadata": {
  "kernelspec": {
   "display_name": "Python 3",
   "language": "python",
   "name": "python3"
  },
  "language_info": {
   "codemirror_mode": {
    "name": "ipython",
    "version": 3
   },
   "file_extension": ".py",
   "mimetype": "text/x-python",
   "name": "python",
   "nbconvert_exporter": "python",
   "pygments_lexer": "ipython3",
   "version": "3.8.8"
  }
 },
 "nbformat": 4,
 "nbformat_minor": 5
}
