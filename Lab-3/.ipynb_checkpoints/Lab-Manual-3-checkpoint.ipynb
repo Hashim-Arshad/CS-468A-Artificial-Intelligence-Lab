{
 "cells": [
  {
   "cell_type": "markdown",
   "id": "9c414627",
   "metadata": {},
   "source": [
    "# 1. Sum of Digits in a String\n",
    "Write a program that asks the user to enter a series of single-digit numbers with nothing\n",
    "separating them. The program should display the sum of all the single digit numbers in the\n",
    "string. For example, if the user enters 2514, the method should return 12, which is the sum\n",
    "of 2, 5, 1, and 4."
   ]
  },
  {
   "cell_type": "code",
   "execution_count": 2,
   "id": "5eb724f3",
   "metadata": {},
   "outputs": [
    {
     "name": "stdout",
     "output_type": "stream",
     "text": [
      "Enter a number : 33333\n",
      "The sum is :  15\n"
     ]
    }
   ],
   "source": [
    "def sumOfDigits(num):\n",
    "    sum = 0\n",
    "    for i in num:\n",
    "#         sum = sum+int(i)\n",
    "        sum += int(i)\n",
    "    print(\"The sum is : \",sum)\n",
    "    \n",
    "num = input(\"Enter a number : \")\n",
    "sumOfDigits(num)"
   ]
  },
  {
   "cell_type": "markdown",
   "id": "ae412f07",
   "metadata": {},
   "source": [
    "# 2. Morse Code Converter\n",
    "Morse code is a code where each letter of the English alphabet, each digit, and various\n",
    "punctuation characters are represented by a series of dots and dashes. Table 8-4 shows\n",
    "part of the code.\n",
    "Write a program that asks the user to enter a string, and then converts that string to Morse\n",
    "code.\n",
    "\n",
    "<br>\n",
    "<figure>\n",
    "  <img src='morseCode.png' alt = \"Morse Code Table\"/>\n",
    "  <center><figcaption>Fig:4 Morse Code Table</figcaption></center>\n",
    "</figure>\n",
    "<br>"
   ]
  },
  {
   "cell_type": "code",
   "execution_count": 32,
   "id": "40dc60fa",
   "metadata": {},
   "outputs": [
    {
     "name": "stdout",
     "output_type": "stream",
     "text": [
      "Enter a string   :\tHASHIM\n",
      "Morse code of string  HASHIM  is [ .... .- ... .... .. --  ]\n"
     ]
    }
   ],
   "source": [
    "CODE = {\n",
    "'0': '-----', \n",
    "'1': '.----', \n",
    "'2': '..---', \n",
    "'3': '...--', \n",
    "'4': '....-', \n",
    "'5': '.....', \n",
    "'6': '-....', \n",
    "'7': '--...', \n",
    "'8': '---..', \n",
    "'9': '----.', \n",
    "'.': '.-.-.-', \n",
    "',': '--..--', \n",
    "'?': '..--..', \n",
    "'A': '.-', \n",
    "'B': '-...', \n",
    "'C': '-.-.', \n",
    "'D': '-..', \n",
    "'E': '.', \n",
    "'F': '..-.', \n",
    "'G': '--.', \n",
    "'H': '....', \n",
    "'I': '..', \n",
    "'J': '.---', \n",
    "'K': '-.-', \n",
    "'L': '.-..', \n",
    "'M': '--', \n",
    "'N': '-.', \n",
    "'O': '---', \n",
    "'P': '.--.', \n",
    "'Q': '--.-', \n",
    "'R': '.-.', \n",
    "'S': '...', \n",
    "'T': '-', \n",
    "'U': '..-', \n",
    "'V': '...-', \n",
    "'W': '.--', \n",
    "'X': '-..-', \n",
    "'Y': '-.--', \n",
    "'Z': '--..',\n",
    "' ': ' '}\n",
    "\n",
    "str=input(\"Enter a string   :\\t\")\n",
    "def toMorseCode(string):\n",
    "    string=string.upper()\n",
    "    sentence = \"\"\n",
    "    for dig in string:\n",
    "        sentence += CODE[dig] + \" \" \n",
    "    return sentence\n",
    "print(\"Morse code of string \", str,\" is [\",toMorseCode(str),\"]\")"
   ]
  },
  {
   "cell_type": "markdown",
   "id": "7139e59a",
   "metadata": {},
   "source": [
    "# 3. Reverse Incremental String Slicing\n",
    "\n",
    "Sometimes, while working with Pythonn strings, we can have a problem in which we need to perform the slice and print of strings in reverse order. This can have application in day-day programming. So in this exercise write a program that reverse the string in incremental order.\n",
    "\n",
    "For Example:\n",
    "\n",
    "    Orignal String : GIFT\n",
    "    \n",
    "    Incremental reverse strings: ['T','TF','TFI','TFIG']"
   ]
  },
  {
   "cell_type": "code",
   "execution_count": 33,
   "id": "3191a5ae",
   "metadata": {},
   "outputs": [
    {
     "name": "stdout",
     "output_type": "stream",
     "text": [
      "Enter a String : HASHIM\n",
      "['M', 'MI', 'MIH', 'MIHS', 'MIHSA', 'MIHSAH']\n"
     ]
    }
   ],
   "source": [
    "word = input(\"Enter a String : \")\n",
    "res = []\n",
    "size=len(word)\n",
    "s=size*-1\n",
    "s=s-1\n",
    "subString=''\n",
    "i=-1\n",
    "while i!=s:\n",
    "    subString+=word[i]\n",
    "    res.append(subString)\n",
    "    i=i-1\n",
    "print(res)"
   ]
  },
  {
   "cell_type": "markdown",
   "id": "b7d63959",
   "metadata": {},
   "source": [
    "## 4. Alphabetic Telephone Number Translator\n",
    "\n",
    "Many companies use telephone numbers like 555-GET-FOOD so the number is easier for\n",
    "their customers to remember. On a standard telephone, the alphabetic letters are mapped\n",
    "to numbers in the following fashion:\n",
    "\n",
    "|Letters|Number|\n",
    "|---|---|\n",
    "|A, B, and C | 2\n",
    "|D, E, and F | 3\n",
    "|G, H, and I | 4\n",
    "|J, K, and L | 5\n",
    "|M, N, and O | 6\n",
    "|P, Q, R, and S | 7\n",
    "|T, U, and V | 8\n",
    "|W, X, Y, and Z | 9\n",
    "\n",
    "Write a program that asks the user to enter a 10-character telephone number in the format\n",
    "XXX-XXX-XXXX. The application should display the telephone number with any\n",
    "alphabetic characters that appeared in the original translated to their numeric equivalent.\n",
    "For example, if the user enters 555-GET-FOOD the application should display\n",
    "555-438-3663."
   ]
  },
  {
   "cell_type": "code",
   "execution_count": 13,
   "id": "1b19f065",
   "metadata": {},
   "outputs": [
    {
     "name": "stdout",
     "output_type": "stream",
     "text": [
      "Enter a telephone number FORMAT EXAMPLE { 555-XXX-XXXX }   :\t555-654-987\n",
      "555-654-987\n"
     ]
    }
   ],
   "source": [
    "number=input('Enter a telephone number FORMAT EXAMPLE { 555-XXX-XXXX }   :\\t')\n",
    "n=''\n",
    "for i in number:\n",
    "    if (i=='A') or (i=='B') or (i=='C'):\n",
    "        c='2'\n",
    "    elif (i=='D') or (i=='E') or (i=='F'):\n",
    "        c='3'\n",
    "    elif (i=='G') or (i=='H') or (i=='I'):\n",
    "        c='4'\n",
    "    elif (i=='J') or (i=='K') or (i=='L'):\n",
    "        c='5'\n",
    "    elif (i=='M') or (i=='N') or (i=='O'):\n",
    "        c='6'\n",
    "    elif (i=='P') or (i=='Q') or (i=='R') or (i=='S'):\n",
    "        c='7'\n",
    "    elif (i=='T') or (i=='U') or (i=='V'):\n",
    "        c='8'\n",
    "    elif (i=='W') or (i=='X') or (i=='Y') or (i=='Z'):\n",
    "        c='9'\n",
    "    else:\n",
    "        c=i\n",
    "    n=n+c\n",
    "print(n)"
   ]
  },
  {
   "cell_type": "markdown",
   "id": "4ab36d87",
   "metadata": {},
   "source": [
    "# 5. Password Validation\n",
    "Assume that you are writing a program for a local software house. It is a password checker program. Two Python built-in functions you’ll need are ord(character) and chr(asciiNumber). ord(character) takes a character and returns its ascii value. In opposite fashion, chr(asciiValue) takes an ascii value and returns a character mapped on that ascii value. Following is ascii chart.\n",
    "\n",
    "<br>\n",
    "<figure>\n",
    "  <img src='asciiTable.png' alt = \"ASCII Code Table\"/>\n",
    "  <center><figcaption>Fig:5 ASCII Code Table</figcaption></center>\n",
    "</figure>\n",
    "<br>\n",
    "\n",
    "That particular software house sets the criteria of password as: A password is valid if and only if it has:\n",
    "* At least one lower case letter\n",
    "* At least one upper case letter\n",
    "* At least one special characters from the above given image.\n",
    "* At least one digit\n",
    "\n",
    "All other passwords are invalid. Use the functions described above to create this program.Summing up the program requirements: \n",
    "\n",
    "1. takes input as password from user\n",
    "2. Apply the described tests\n",
    "3. And prints whether the password is valid or invalid."
   ]
  },
  {
   "cell_type": "code",
   "execution_count": 17,
   "id": "b37af723",
   "metadata": {},
   "outputs": [
    {
     "name": "stdout",
     "output_type": "stream",
     "text": [
      "Enter password of atleast 4 characters   :\tAf1/\n",
      "Password Validated\n"
     ]
    }
   ],
   "source": [
    "password=input(\"Enter password of atleast 4 characters   :\\t\")\n",
    "upper=['A','B','C','D','E','F','G','H','I','J','K','L','M','N','O','P','Q','R','S','T','U','V','W','X','Y','Z']\n",
    "lower=['a','b','c','d','e','f','g','h','i','j','k','l','m','n','o','p','q','r','s','t','u','v','w','x','y','z']\n",
    "special=['`','~','!','@','#','$','%','^','&','<','(',')','-','_','>','{','[','}',']','|',':',';','“','<','>','/']\n",
    "digit=['0','1','2','3','4','5','6','7','8','9']\n",
    "check1=-1\n",
    "check2=-1\n",
    "check3=-1\n",
    "check4=-1\n",
    "while len(password)<4:\n",
    "    password=input(\"Enter a valid password of atleast 4 characters   :\\t\")\n",
    "    \n",
    "for i in password:\n",
    "    for j in upper:\n",
    "        if i==j:\n",
    "            check1=0\n",
    "            break\n",
    "\n",
    "for i in password:\n",
    "    for j in lower:\n",
    "        if i==j:\n",
    "            check2=0\n",
    "            break\n",
    "            \n",
    "for i in password:\n",
    "    for j in special:\n",
    "        if i==j:\n",
    "            check3=0\n",
    "            break\n",
    "            \n",
    "for i in password:\n",
    "    for j in digit:\n",
    "        if i==j:\n",
    "            check4=0\n",
    "            break\n",
    "\n",
    "if check1==0 and check2==0 and check3==0 and check4==0:\n",
    "    print(\"Password Validated\")\n",
    "else:\n",
    "    print(\"Wrong Password\")"
   ]
  },
  {
   "cell_type": "markdown",
   "id": "b939772e",
   "metadata": {},
   "source": [
    "# 6. Sentence Capitalizer\n",
    "Write a program with a function that accepts a string as an argument and returns a copy of\n",
    "the string with the first character of each sentence capitalized. For instance, if the argument\n",
    "is “hello. my name is Joe. what is your name?” the function should return the string “Hello.\n",
    "My name is Joe. What is your name?” The program should let the user enter a string and\n",
    "then pass it to the function. The modified string should be displayed."
   ]
  },
  {
   "cell_type": "code",
   "execution_count": 18,
   "id": "42796c30",
   "metadata": {},
   "outputs": [
    {
     "name": "stdout",
     "output_type": "stream",
     "text": [
      "Enter a sentence   :\thello, how are you\n",
      " Hello, How Are You\n"
     ]
    }
   ],
   "source": [
    "sentence=input(\"Enter a sentence   :\\t\")\n",
    "str=sentence.split(\" \")\n",
    "s=''\n",
    "for i in str:\n",
    "    for j in range(len(i)):\n",
    "        if j==0:\n",
    "            s+=\" \"+i[j].upper()\n",
    "        else:\n",
    "            s+=i[j]\n",
    "print(s)"
   ]
  },
  {
   "cell_type": "markdown",
   "id": "f3f7d0b3",
   "metadata": {},
   "source": [
    "# 7. Pig Latin\n",
    "\n",
    "Write a program that accepts a sentence as input and converts each word to “Pig Latin.” In\n",
    "one version, to convert a word to Pig Latin you remove the first letter and place that letter\n",
    "at the end of the word. Then you append the string “ay” to the word. Here is an example:\n",
    "\n",
    "    English: I SLEPT MOST OF THE NIGHT\n",
    "    Pig Latin: IAY LEPTSAY OSTMAY FOAY HETAY IGHTNAY"
   ]
  },
  {
   "cell_type": "code",
   "execution_count": 19,
   "id": "f9fdba77",
   "metadata": {},
   "outputs": [
    {
     "name": "stdout",
     "output_type": "stream",
     "text": [
      "Enter a sentence   :\twho Are You\n",
      "HOwAY REAAY OUYAY \n"
     ]
    }
   ],
   "source": [
    "sentence=input(\"Enter a sentence   :\\t\")\n",
    "str=sentence.split(\" \")\n",
    "s=''\n",
    "for i in str:\n",
    "    c=i[0]+\"AY \"\n",
    "    for j in range(len(i)):\n",
    "        if j!=0:\n",
    "            s+=i[j].upper()\n",
    "    s=s+c\n",
    "print(s)"
   ]
  }
 ],
 "metadata": {
  "kernelspec": {
   "display_name": "Python 3",
   "language": "python",
   "name": "python3"
  },
  "language_info": {
   "codemirror_mode": {
    "name": "ipython",
    "version": 3
   },
   "file_extension": ".py",
   "mimetype": "text/x-python",
   "name": "python",
   "nbconvert_exporter": "python",
   "pygments_lexer": "ipython3",
   "version": "3.8.8"
  }
 },
 "nbformat": 4,
 "nbformat_minor": 5
}
