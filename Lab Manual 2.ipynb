{
 "cells": [
  {
   "cell_type": "markdown",
   "id": "df234a96",
   "metadata": {},
   "source": [
    "# Mass and Weight\n",
    "Scientists measure an object’s mass in kilograms and its weight in newtons. If you know the amount\n",
    "of mass of an object in kilograms, you can calculate its weight in newtons with the following formula:\n",
    "**\n",
    "weight = mass * 3 9.8\n",
    "** Write a program that asks the user to enter an object’s mass, and then calculates its weight. If\n",
    "the object weighs more than 500 newtons, display a message indicating that it is too heavy. If the\n",
    "object weighs less than 100 newtons, display a message indicating that it is too light.\n"
   ]
  },
  {
   "cell_type": "code",
   "execution_count": 9,
   "id": "5387144e",
   "metadata": {},
   "outputs": [
    {
     "name": "stdout",
     "output_type": "stream",
     "text": [
      "Enter Object's Mass :2\n",
      "2 Kg = 79.6 newtons\n",
      "it is too light\n"
     ]
    }
   ],
   "source": [
    "i=int(input(\"Enter Object's Mass :\"))\n",
    "weight=i*39.8\n",
    "print(i,\"Kg =\",weight,\"newtons\")\n",
    "if weight>500:\n",
    "    print(\"it is too heavy\")\n",
    "if i*39.8<100:\n",
    "    print(\"it is too light\")"
   ]
  },
  {
   "cell_type": "markdown",
   "id": "d4a51bb4",
   "metadata": {},
   "source": [
    "# Hot Dogs Cookout Calculator\n",
    "Assume that hot dogs come in packages of 10, and hot dog buns come in packages of 8. Write a\n",
    "program that calculates the number of packages of hot dogs and the number of packages of hot dog\n",
    "buns needed for a cookout, with the minimum amount of leftovers. The program should ask the\n",
    "user for the number of people attending the cookout and the number of hot dogs each person will\n",
    "be given. The program should display the following details: * The minimum number of packages\n",
    "of hot dogs required * The minimum number of packages of hot dog buns required * The number\n",
    "of hot dogs that will be left over * The number of hot dog buns that will be left over"
   ]
  },
  {
   "cell_type": "code",
   "execution_count": 16,
   "id": "329bd25a",
   "metadata": {},
   "outputs": [
    {
     "name": "stdout",
     "output_type": "stream",
     "text": [
      "Enter number of people attending the cookout =\t8\n",
      "how many no. of hot dogs each person have =\t8\n",
      "The minimum number of packages of hotdogs required   :\t 6.0\n",
      "The minimum number of packages of buns required   :\t 8.0\n",
      "The number of hotdogs left   :\t -4.0\n",
      "The number of hotdogs buns left   :\t 0.0\n"
     ]
    }
   ],
   "source": [
    "p=int(input(\"Enter number of people attending the cookout =\\t\"))\n",
    "hotdogs_no=int(input(\"how many no. of hot dogs each person have =\\t\"))\n",
    "Total=p*hotdogs_no\n",
    "hotdogs=10\n",
    "buns=8\n",
    "hotdog_pack=round(Total/hotdogs,0)\n",
    "buns_pack=round(Total/buns,0)\n",
    "left_hotdogs=(hotdog_pack*10)-Total\n",
    "left_buns=(buns_pack*8)-Total\n",
    "print(\"The minimum number of packages of hotdogs required   :\\t\",hotdog_pack)\n",
    "print(\"The minimum number of packages of buns required   :\\t\",buns_pack)\n",
    "print(\"The number of hotdogs left   :\\t\",left_hotdogs)\n",
    "print(\"The number of hotdogs buns left   :\\t\",left_buns)"
   ]
  },
  {
   "cell_type": "markdown",
   "id": "e40e971b",
   "metadata": {},
   "source": [
    "# Miles Per Gallon\n",
    "Drivers are concerned with the mileage obtained by their automobiles. One driver has kept track\n",
    "of several tankfuls of gasoline by recording miles driven and gallons used for each tankful. Develop\n",
    "a sentinel-controlled-repetition script that prompts the user to input the miles driven and gallons\n",
    "used for each tankful. The script should calculate and display the miles per gallon obtained for\n",
    "each tankful. After processing all input information, the script should calculate and display the\n",
    "combined miles per gallon obtained for all tankfuls (that is, total miles driven divided by total\n",
    "gallons used).\n",
    "• Enter the gallons used (-1 to end): 12.8\n",
    "• Enter the miles driven: 287\n",
    "• The miles/gallon for this tank was 22.421875\n",
    "• Enter the gallons used (-1 to end): 10.3\n",
    "• Enter the miles driven: 200\n",
    "• The miles/gallon for this tank was 19.417475\n",
    "• Enter the gallons used (-1 to end): 5\n",
    "• Enter the miles driven: 120\n",
    "• The miles/gallon for this tank was 24.000000\n",
    "• Enter the gallons used (-1 to end): -1\n",
    "• The overall average miles/gallon was 21.601423"
   ]
  },
  {
   "cell_type": "code",
   "execution_count": 23,
   "id": "a882608d",
   "metadata": {},
   "outputs": [
    {
     "name": "stdout",
     "output_type": "stream",
     "text": [
      "Enter the gallons used(-1 to end) = 12.8\n",
      "Enter the miles driven = 287\n",
      "The miles/gallon for this tank was =  22.421875\n"
     ]
    }
   ],
   "source": [
    "gallons=float(input(\"Enter the gallons used(-1 to end) = \"))\n",
    "miles=float(input(\"Enter the miles driven = \"))\n",
    "n=miles/gallons\n",
    "print(\"The miles/gallon for this tank was = \" ,n)"
   ]
  },
  {
   "cell_type": "markdown",
   "id": "86f5d805",
   "metadata": {},
   "source": [
    "# Software Sales\n",
    "A software company sells a package that retails for $99. Quantity discounts are given according to\n",
    "the following table:\n",
    "Quantity Discount\n",
    "10–19 10%\n",
    "20–49 20%\n",
    "50–99 30%\n",
    "100 or more 40%\n",
    "Write a program that asks the user to enter the number of packages purchased. The program\n",
    "should then display the amount of the discount (if any) and the total amount of the purchase after\n",
    "the discount."
   ]
  },
  {
   "cell_type": "code",
   "execution_count": 24,
   "id": "414f6050",
   "metadata": {},
   "outputs": [
    {
     "name": "stdout",
     "output_type": "stream",
     "text": [
      "\tEnter number of packages purchased   :\t20\n",
      "\n",
      "\t20% Discount\n",
      "\tTotal amount of the purchase after discount   :\t 1584.0\n"
     ]
    }
   ],
   "source": [
    "packs=int(input(\"\\tEnter number of packages purchased   :\\t\"))\n",
    "amount=packs*99\n",
    "if(packs>=10) and (packs<=19):\n",
    "    discount=amount*0.1\n",
    "    print(\"\\n\\t10% Discount\\n\\tTotal amount of the purchase after discount   :\\t\",(amount-discount))\n",
    "elif(packs>=20) and (packs<=49):\n",
    "    discount=amount*0.2\n",
    "    print(\"\\n\\t20% Discount\\n\\tTotal amount of the purchase after discount   :\\t\",(amount-discount))\n",
    "elif(packs>=50) and (packs<=99):\n",
    "    discount=amount*0.3\n",
    "    print(\"\\n\\t30% Discount\\n\\tTotal amount of the purchase after discount   :\\t\",(amount-discount))\n",
    "elif(packs>=100):\n",
    "    discount=amount*0.4\n",
    "    print(\"\\n\\t40% Discount\\n\\tTotal amount of the purchase after discount   :\\t\",(amount-discount))\n",
    "else:\n",
    "    print(\"\\n\\tNo discount\\n\\tTotal amount of the purchase is   :\\t\",(amount-discount))\n"
   ]
  },
  {
   "cell_type": "markdown",
   "id": "9ac1fd65",
   "metadata": {},
   "source": [
    "#  Shipping Charges\n",
    "The Fast Freight Shipping Company charges the following rates:\n",
    "Weight of Package Rate per Pound (Dollar)\n",
    "2 pounds or less 1.50\n",
    "Over 2 pounds but not more than 6 pounds 3.00\n",
    "Over 6 pounds but not more than 10 pounds 4.00\n",
    "Over 10 pounds 4.75\n",
    "Write a program that asks the user to enter the weight of a package and then displays the shipping\n",
    "charges.\n"
   ]
  },
  {
   "cell_type": "code",
   "execution_count": 25,
   "id": "34db6d9f",
   "metadata": {},
   "outputs": [
    {
     "name": "stdout",
     "output_type": "stream",
     "text": [
      "Enter number of pakages :22\n",
      "your shiping charges are  104.5\n"
     ]
    }
   ],
   "source": [
    "i=int(input(\"Enter number of pakages :\"))\n",
    "if i<=2:\n",
    "    print(\"your shiping charges are \",i*1.50)\n",
    "if i>2 and i<6:\n",
    "    print(\"your shiping charges are \",i*3.00)\n",
    "if i>6 and i<=10:\n",
    "    print(\"your shiping charges are \",i*4.00)\n",
    "else:\n",
    "    print(\"your shiping charges are \",i*4.75)"
   ]
  },
  {
   "cell_type": "markdown",
   "id": "db2b699b",
   "metadata": {},
   "source": [
    "# Body Mass Index\n",
    "Write a program that calculates and displays a person’s body mass index (BMI). The BMI is often\n",
    "used to determine whether a person is overweight or underweight for his or her height. A person’s\n",
    "BMI is calculated with the following formula:\n",
    "**\n",
    "BMI = weight * 703 / height^2\n",
    "**\n",
    "where weight is measured in pounds and height is measured in inches. The program should ask the\n",
    "user to enter his or her weight and height and then display the user’s BMI. The program should\n",
    "also display a message indicating whether the person has optimal weight, is underweight, or is\n",
    "17overweight. A person’s weight is considered to be optimal if his or her BMI is between 18.5 and\n",
    "25. If the BMI is less than 18.5, the person is considered to be underweight. If the BMI value is\n",
    "greater than 25, the person is considered to be overweight.\n"
   ]
  },
  {
   "cell_type": "code",
   "execution_count": 26,
   "id": "7020494a",
   "metadata": {},
   "outputs": [
    {
     "name": "stdout",
     "output_type": "stream",
     "text": [
      "Enter your weight61\n",
      "Enter your height5.6\n",
      "BMI =  1367.4426020408166\n",
      "The person is Overweighted\n"
     ]
    }
   ],
   "source": [
    "weight=float(input(\"Enter your weight\"))\n",
    "height=float(input(\"Enter your height\"))\n",
    "BMI=weight*703/height**2\n",
    "print(\"BMI = \",BMI)\n",
    "if BMI>=18.5 and BMI<25:\n",
    "    print(\"The person has Optimal Weight\")\n",
    "elif BMI<18.5:\n",
    "    print(\"the person is UnderWeighted\")\n",
    "elif BMI>25:\n",
    "    print(\"The person is Overweighted\")\n",
    "    "
   ]
  },
  {
   "cell_type": "markdown",
   "id": "5a084040",
   "metadata": {},
   "source": [
    "# Budget Analysis\n",
    "Write a program that asks the user to enter the amount that he or she has budgeted for a month.\n",
    "A loop should then prompt the user to enter each of his or her expenses for the month and keep\n",
    "a running total. When the loop finishes, the program should display the amount that the user is\n",
    "over or under budget."
   ]
  },
  {
   "cell_type": "code",
   "execution_count": 28,
   "id": "1221a6d5",
   "metadata": {},
   "outputs": [
    {
     "name": "stdout",
     "output_type": "stream",
     "text": [
      "\tEnter your budget of a month   :\t2000\n",
      "\n",
      "\tEnter your expense   :\t1500\n",
      "\n",
      "\tDo have more expenses (y/n)   :\ty\n",
      "\n",
      "\tEnter your expense   :\t299\n",
      "\n",
      "\tDo have more expenses (y/n)   :\ty\n",
      "\n",
      "\tEnter your expense   :\t150\n",
      "\n",
      "\tDo have more expenses (y/n)   :\tn\n",
      "\n",
      "\tBudget   :\t 2000.0 \n",
      "\tExpenses   :\t 1949.0\n",
      "\n",
      "\tYour expenses are under your budget\n"
     ]
    }
   ],
   "source": [
    "budget=float(input(\"\\tEnter your budget of a month   :\\t\"))\n",
    "sum=0.0\n",
    "check=0\n",
    "while check!=-1:\n",
    "    expense=float(input(\"\\n\\tEnter your expense   :\\t\"))\n",
    "    sum+=expense\n",
    "    str=input(\"\\n\\tDo have more expenses (y/n)   :\\t\")\n",
    "    if str==\"n\" or str==\"N\" :\n",
    "        check=-1\n",
    "print(\"\\n\\tBudget   :\\t\",budget,\"\\n\\tExpenses   :\\t\",sum)\n",
    "if sum>budget :\n",
    "    print(\"\\n\\tYour expenses are over your budget\")\n",
    "else:\n",
    "    print(\"\\n\\tYour expenses are under your budget\")"
   ]
  },
  {
   "cell_type": "markdown",
   "id": "6befb6f0",
   "metadata": {},
   "source": [
    "# Average Rainfall\n",
    "Write a program that uses nested loops to collect data and calculate the average rainfall over a\n",
    "period of years. The program should first ask for the number of years. The outer loop will iterate\n",
    "once for each year. The inner loop will iterate twelve times, once for each month. Each iteration\n",
    "of the inner loop will ask the user for the inches of rainfall for that month. After all iterations, the\n",
    "program should display the number of months, the total inches of rainfall, and the average rainfall\n",
    "per month for the entire period.\n"
   ]
  },
  {
   "cell_type": "code",
   "execution_count": 35,
   "id": "9ac78514",
   "metadata": {},
   "outputs": [
    {
     "name": "stdout",
     "output_type": "stream",
     "text": [
      "Enter years   :\t1\n",
      "\n",
      "\tEnter inches of rainfall for  1  month\n",
      "2\n",
      "\n",
      "\tEnter inches of rainfall for  2  month\n",
      "3\n",
      "\n",
      "\tEnter inches of rainfall for  3  month\n",
      "4\n",
      "\n",
      "\tEnter inches of rainfall for  4  month\n",
      "1\n",
      "\n",
      "\tEnter inches of rainfall for  5  month\n",
      "5\n",
      "\n",
      "\tEnter inches of rainfall for  6  month\n",
      "2\n",
      "\n",
      "\tEnter inches of rainfall for  7  month\n",
      "1\n",
      "\n",
      "\tEnter inches of rainfall for  8  month\n",
      "3\n",
      "\n",
      "\tEnter inches of rainfall for  9  month\n",
      "5\n",
      "\n",
      "\tEnter inches of rainfall for  10  month\n",
      "4\n",
      "\n",
      "\tEnter inches of rainfall for  11  month\n",
      "2\n",
      "\n",
      "\tEnter inches of rainfall for  12  month\n",
      "3\n",
      "\n",
      "\tTotal number of months   :\t 12\n",
      "\n",
      "\tTotal inches of rainfall   :\t 35.0\n",
      "\n",
      "\tAverage rainfall per month for the entire period = 2.9166666666666665\n"
     ]
    }
   ],
   "source": [
    "years=int(input(\"Enter years   :\\t\"))\n",
    "total_rainfall=0.0\n",
    "months=years*12\n",
    "for i in range(1,years+1):\n",
    "    for j in range(1,months+1) :\n",
    "        print(\"\\n\\tEnter inches of rainfall for \",j,\" month\")\n",
    "        rainfall=float(input())\n",
    "        total_rainfall+=rainfall\n",
    "m=years*12\n",
    "a=total_rainfall/m\n",
    "print(\"\\n\\tTotal number of months   :\\t\",m)\n",
    "print(\"\\n\\tTotal inches of rainfall   :\\t\",total_rainfall)\n",
    "print(\"\\n\\tAverage rainfall per month for the entire period =\",a)"
   ]
  },
  {
   "cell_type": "markdown",
   "id": "e102db9a",
   "metadata": {},
   "source": [
    "# Guess the Number\n",
    "Write a script that plays “guess the number.” Choose the number to be guessed by selecting a\n",
    "random integer in the range 1 to 1000. Do not reveal this number to the user. Display the\n",
    "prompt “Guess my number between 1 and 1000 with the fewest guesses:”. The player\n",
    "inputs a first guess. If the guess is incorrect, display “Too high. Try again.” or “Too low. Try\n",
    "again.” as appropriate to help the player “zero in” on the correct answer, then prompt the user\n",
    "for the next guess. When the user enters the correct answer, display “Congratulations. You\n",
    "guessed the number!”, and allow the user to choose whether to play again.\n"
   ]
  },
  {
   "cell_type": "code",
   "execution_count": 36,
   "id": "0c6e520c",
   "metadata": {},
   "outputs": [
    {
     "name": "stdout",
     "output_type": "stream",
     "text": [
      "Guess my number between 1 and 1000 with the nearest guesses : 500\n",
      "Too high Try again.\n",
      "Guess my number between 1 and 1000 with the nearest guesses : 400\n",
      "Too high Try again.\n",
      "Guess my number between 1 and 1000 with the nearest guesses : 300\n",
      "Too high Try again.\n",
      "Guess my number between 1 and 1000 with the nearest guesses : 200\n",
      "Too high Try again.\n",
      "Guess my number between 1 and 1000 with the nearest guesses : 100\n",
      "Too low. Try again\n",
      "Guess my number between 1 and 1000 with the nearest guesses : 150\n",
      "Too low. Try again\n",
      "Guess my number between 1 and 1000 with the nearest guesses : 160\n",
      "Too high Try again.\n",
      "Guess my number between 1 and 1000 with the nearest guesses : 155\n",
      "Too high Try again.\n",
      "Guess my number between 1 and 1000 with the nearest guesses : 154\n",
      "Too high Try again.\n",
      "Guess my number between 1 and 1000 with the nearest guesses : 153\n",
      "Too high Try again.\n",
      "You lose the game.The right number was  152 \n",
      "Good luck for the next time\n",
      "Do you want to play again ? (y/n)n\n"
     ]
    }
   ],
   "source": [
    "import random\n",
    "check=0\n",
    "while check!=-1:\n",
    "    check=0\n",
    "    number = random.randrange(1, 1001)\n",
    "    guess_counter=0\n",
    "    while guess_counter<10:\n",
    "        guess = int(input(\"Guess my number between 1 and 1000 with the nearest guesses : \"))\n",
    "        guess_counter=guess_counter+1\n",
    "        if guess > number:\n",
    "            print(\"Too high Try again.\")\n",
    "        elif guess < number:\n",
    "            print(\"Too low. Try again\")\n",
    "        else:\n",
    "            break\n",
    "    if guess==number:\n",
    "        print(\"Congratulations. You guessed the number\")\n",
    "        x=input(\"Do you want to play again ? (y/n)\")\n",
    "        if(x==\"n\" or check==\"N\"):\n",
    "            check=-1\n",
    "    else:\n",
    "        print(\"You lose the game.The right number was \",number,\"\\nGood luck for the next time\")\n",
    "        x=input(\"Do you want to play again ? (y/n)\")\n",
    "        if(x==\"n\" or check==\"N\"):\n",
    "            check=-1"
   ]
  },
  {
   "cell_type": "markdown",
   "id": "581f1a6b",
   "metadata": {},
   "source": [
    "## Population\n",
    "Write a program that predicts the approximate size of a population of organisms. The\n",
    "application should allow the user to enter the starting number of organisms,\n",
    "the average daily population increase (as a percentage), and the number of days the\n",
    "organisms will be left to multiply. For example, assume the user enters the following values:\n",
    "\n",
    "Starting number of organisms: 2\n",
    "\n",
    "Average daily increase: 30%\n",
    "\n",
    "Number of days to multiply: 10\n",
    "\n",
    "The program should display the following table of data:\n",
    "\n",
    "| Day Approximate | Population |\n",
    "| --- | --- |\n",
    "| 1 | 2 |\n",
    "| 2 | 2.6 |\n",
    "| 3 | 3.38 |\n",
    "| 4 | 4.394 |\n",
    "| 5 | 5.7122 |\n",
    "|6 | 7.42586 |\n",
    "|7 | 9.653619 |\n",
    "|8 | 12.5497 |\n",
    "|9 | 16.31462 |\n",
    "|10 | 21.209 |"
   ]
  },
  {
   "cell_type": "code",
   "execution_count": 44,
   "id": "f298982b",
   "metadata": {},
   "outputs": [
    {
     "name": "stdout",
     "output_type": "stream",
     "text": [
      "Starting number of organisms = 2\n",
      "Average daily increase (as a percentage) = 30\n",
      "Number of days to multiply = 10\n",
      "\n",
      "Day Approximate\t\t population\n",
      "1 \t\t\t 2\n",
      "2 \t\t\t 2.6\n",
      "3 \t\t\t 3.38\n",
      "4 \t\t\t 4.394\n",
      "5 \t\t\t 5.712\n",
      "6 \t\t\t 7.426\n",
      "7 \t\t\t 9.654\n",
      "8 \t\t\t 12.55\n",
      "9 \t\t\t 16.315\n",
      "10 \t\t\t 21.209\n"
     ]
    }
   ],
   "source": [
    "organism=int(input(\"Starting number of organisms = \"))\n",
    "average=int(input(\"Average daily increase (as a percentage) = \"))\n",
    "days=int(input(\"Number of days to multiply = \"))\n",
    "print(\"\\nDay Approximate\\t\\t population\")\n",
    "p=average/100\n",
    "sum =organism\n",
    "print(1,\"\\t\\t\\t\",organism)\n",
    "for i in range(2,days+1):\n",
    "    a =p*sum\n",
    "    sum+=a\n",
    "    print(i,\"\\t\\t\\t\",round(sum,3))"
   ]
  }
 ],
 "metadata": {
  "kernelspec": {
   "display_name": "Python 3",
   "language": "python",
   "name": "python3"
  },
  "language_info": {
   "codemirror_mode": {
    "name": "ipython",
    "version": 3
   },
   "file_extension": ".py",
   "mimetype": "text/x-python",
   "name": "python",
   "nbconvert_exporter": "python",
   "pygments_lexer": "ipython3",
   "version": "3.8.8"
  }
 },
 "nbformat": 4,
 "nbformat_minor": 5
}
